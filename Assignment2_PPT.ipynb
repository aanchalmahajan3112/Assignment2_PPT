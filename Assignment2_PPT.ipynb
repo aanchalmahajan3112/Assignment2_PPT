{
  "nbformat": 4,
  "nbformat_minor": 0,
  "metadata": {
    "colab": {
      "provenance": []
    },
    "kernelspec": {
      "name": "python3",
      "display_name": "Python 3"
    },
    "language_info": {
      "name": "python"
    }
  },
  "cells": [
    {
      "cell_type": "code",
      "execution_count": 2,
      "metadata": {
        "colab": {
          "base_uri": "https://localhost:8080/"
        },
        "id": "Me8aSfH6_bbl",
        "outputId": "48e1c22f-1fbf-4c37-b5c3-6429041c30db"
      },
      "outputs": [
        {
          "output_type": "stream",
          "name": "stdout",
          "text": [
            "4\n"
          ]
        }
      ],
      "source": [
        "\n",
        "# 💡 **Question 1**\n",
        "# Given an integer array nums of 2n integers, group these integers into n pairs (a1, b1), (a2, b2),..., (an, bn) such that the sum of min(ai, bi) for all i is maximized. Return the maximized sum.\n",
        "\n",
        "# **Example 1:**\n",
        "# Input: nums = [1,4,3,2]\n",
        "# Output: 4\n",
        "\n",
        "# **Explanation:** All possible pairings (ignoring the ordering of elements) are:\n",
        "\n",
        "# 1. (1, 4), (2, 3) -> min(1, 4) + min(2, 3) = 1 + 2 = 3\n",
        "# 2. (1, 3), (2, 4) -> min(1, 3) + min(2, 4) = 1 + 2 = 3\n",
        "# 3. (1, 2), (3, 4) -> min(1, 2) + min(3, 4) = 1 + 3 = 4\n",
        "# So the maximum possible sum is 4\n",
        "\n",
        "\n",
        "\n",
        "def arrayPairSum(nums):\n",
        "    nums.sort()\n",
        "    max_sum = 0\n",
        "    for i in range(0, len(nums), 2):\n",
        "        max_sum += nums[i]\n",
        "    return max_sum\n",
        "\n",
        "nums = [1, 4, 3, 2]\n",
        "print(arrayPairSum(nums))\n"
      ]
    },
    {
      "cell_type": "code",
      "source": [
        "# Question 2\n",
        "# Alice has n candies, where the ith candy is of type candyType[i]. Alice noticed that she started to gain weight, so she visited a doctor. \n",
        "\n",
        "# The doctor advised Alice to only eat n / 2 of the candies she has (n is always even). Alice likes her candies very much, and she wants to eat the maximum number of different types of candies while still following the doctor's advice. \n",
        "\n",
        "# Given the integer array candyType of length n, return the maximum number of different types of candies she can eat if she only eats n / 2 of them.\n",
        "\n",
        "# Example 1:\n",
        "# Input: candyType = [1,1,2,2,3,3]\n",
        "# Output: 3\n",
        "\n",
        "# Explanation: Alice can only eat 6 / 2 = 3 candies. Since there are only 3 types, she can eat one of each type.\n",
        "\n",
        "\n",
        "def maxCandies(candyType):\n",
        "    unique_candies = set()\n",
        "    for candy in candyType:\n",
        "        unique_candies.add(candy)\n",
        "        if len(unique_candies) >= len(candyType) / 2:\n",
        "            return len(candyType) / 2\n",
        "    return len(unique_candies)\n",
        "\n",
        "candyType = [1, 1, 2, 2, 3, 3]\n",
        "print(maxCandies(candyType))\n",
        "\n"
      ],
      "metadata": {
        "colab": {
          "base_uri": "https://localhost:8080/"
        },
        "id": "UXqTH8vB_49R",
        "outputId": "e964e988-7039-499e-f046-aceecbb2263f"
      },
      "execution_count": 3,
      "outputs": [
        {
          "output_type": "stream",
          "name": "stdout",
          "text": [
            "3.0\n"
          ]
        }
      ]
    },
    {
      "cell_type": "markdown",
      "source": [
        "Therefore, Alice can eat a maximum of 3 different types of candies while following the doctor's advice."
      ],
      "metadata": {
        "id": "RKfM5LHKAlu1"
      }
    },
    {
      "cell_type": "code",
      "source": [
        "# Question 3\n",
        "# We define a harmonious array as an array where the difference between its maximum value\n",
        "# and its minimum value is exactly 1.\n",
        "\n",
        "# Given an integer array nums, return the length of its longest harmonious subsequence\n",
        "# among all its possible subsequences.\n",
        "\n",
        "# A subsequence of an array is a sequence that can be derived from the array by deleting some or no elements without changing the order of the remaining elements.\n",
        "\n",
        "# Example 1:\n",
        "# Input: nums = [1,3,2,2,5,2,3,7]\n",
        "# Output: 5\n",
        "\n",
        "# Explanation: The longest harmonious subsequence is [3,2,2,2,3].\n",
        "\n",
        "\n",
        "\n",
        "def findLHS(nums):\n",
        "    num_count = {}\n",
        "    for num in nums:\n",
        "        num_count[num] = num_count.get(num, 0) + 1\n",
        "\n",
        "    max_length = 0\n",
        "    for num in num_count:\n",
        "        if num + 1 in num_count:\n",
        "            length = num_count[num] + num_count[num + 1]\n",
        "            max_length = max(max_length, length)\n",
        "\n",
        "    return max_length\n",
        "\n",
        "nums = [1, 3, 2, 2, 5, 2, 3, 7]\n",
        "print(findLHS(nums))\n"
      ],
      "metadata": {
        "colab": {
          "base_uri": "https://localhost:8080/"
        },
        "id": "MzLD1jdrBAg-",
        "outputId": "e078cb19-3b6d-4450-df01-d0f321b624ac"
      },
      "execution_count": 4,
      "outputs": [
        {
          "output_type": "stream",
          "name": "stdout",
          "text": [
            "5\n"
          ]
        }
      ]
    },
    {
      "cell_type": "code",
      "source": [
        "# Question 4\n",
        "# You have a long flowerbed in which some of the plots are planted, and some are not.\n",
        "# However, flowers cannot be planted in adjacent plots.\n",
        "# Given an integer array flowerbed containing 0's and 1's, where 0 means empty and 1 means not empty, and an integer n, return true if n new flowers can be planted in the flowerbed without violating the no-adjacent-flowers rule and false otherwise.\n",
        "\n",
        "# Example 1:\n",
        "# Input: flowerbed = [1,0,0,0,1], n = 1\n",
        "# Output: true\n",
        "\n",
        "\n",
        "\n",
        "def canPlaceFlowers(flowerbed, n):\n",
        "    count = 0\n",
        "    i = 0\n",
        "    while i < len(flowerbed):\n",
        "        if (\n",
        "            flowerbed[i] == 0 and\n",
        "            (i == 0 or flowerbed[i - 1] == 0) and\n",
        "            (i == len(flowerbed) - 1 or flowerbed[i + 1] == 0)\n",
        "        ):\n",
        "            count += 1\n",
        "            flowerbed[i] = 1\n",
        "            i += 1  # Skip the next position since we cannot plant adjacent flowers\n",
        "        if count >= n:\n",
        "            return True\n",
        "        i += 1\n",
        "    return False\n",
        "\n",
        "flowerbed = [1, 0, 0, 0, 1]\n",
        "n = 1\n",
        "print(canPlaceFlowers(flowerbed, n))\n",
        "\n"
      ],
      "metadata": {
        "colab": {
          "base_uri": "https://localhost:8080/"
        },
        "id": "oB3vH9ViBt8q",
        "outputId": "258a7233-d15c-4ab0-fc9b-5711d7268a0a"
      },
      "execution_count": 5,
      "outputs": [
        {
          "output_type": "stream",
          "name": "stdout",
          "text": [
            "True\n"
          ]
        }
      ]
    },
    {
      "cell_type": "code",
      "source": [
        "# Question 5\n",
        "# Given an integer array nums, find three numbers whose product is maximum and return the maximum product.\n",
        "\n",
        "# Example 1:\n",
        "# Input: nums = [1,2,3]\n",
        "# Output: 6\n",
        "\n",
        "def maximumProduct(nums):\n",
        "    nums.sort()\n",
        "    product1 = nums[-1] * nums[-2] * nums[-3]\n",
        "    product2 = nums[0] * nums[1] * nums[-1]\n",
        "    return max(product1, product2)\n",
        "\n",
        "nums = [1, 2, 3]\n",
        "print(maximumProduct(nums))\n"
      ],
      "metadata": {
        "colab": {
          "base_uri": "https://localhost:8080/"
        },
        "id": "arUlopxEB-0P",
        "outputId": "7974d3a2-1db9-4186-cbbf-a4f11018da4c"
      },
      "execution_count": 6,
      "outputs": [
        {
          "output_type": "stream",
          "name": "stdout",
          "text": [
            "6\n"
          ]
        }
      ]
    },
    {
      "cell_type": "code",
      "source": [
        "# Question 6\n",
        "# Given an array of integers nums which is sorted in ascending order, and an integer target,\n",
        "# write a function to search target in nums. If target exists, then return its index. Otherwise,\n",
        "# return -1.\n",
        "\n",
        "# You must write an algorithm with O(log n) runtime complexity.\n",
        "\n",
        "# Input: nums = [-1,0,3,5,9,12], target = 9\n",
        "# Output: 4\n",
        "\n",
        "# Explanation: 9 exists in nums and its index is 4\n",
        "\n",
        "\n",
        "def search(nums, target):\n",
        "    left, right = 0, len(nums) - 1\n",
        "    while left <= right:\n",
        "        mid = (left + right) // 2\n",
        "        if nums[mid] == target:\n",
        "            return mid\n",
        "        elif nums[mid] > target:\n",
        "            right = mid - 1\n",
        "        else:\n",
        "            left = mid + 1\n",
        "    return -1\n",
        "\n",
        "nums = [-1, 0, 3, 5, 9, 12]\n",
        "target = 9\n",
        "print(search(nums, target))\n"
      ],
      "metadata": {
        "colab": {
          "base_uri": "https://localhost:8080/"
        },
        "id": "1LlyfqMRCd5-",
        "outputId": "105378ea-0eea-464c-c4fa-913230db4cad"
      },
      "execution_count": 7,
      "outputs": [
        {
          "output_type": "stream",
          "name": "stdout",
          "text": [
            "4\n"
          ]
        }
      ]
    },
    {
      "cell_type": "code",
      "source": [
        "# Question 7\n",
        "# An array is monotonic if it is either monotone increasing or monotone decreasing.\n",
        "\n",
        "# An array nums is monotone increasing if for all i <= j, nums[i] <= nums[j]. An array nums is\n",
        "# monotone decreasing if for all i <= j, nums[i] >= nums[j].\n",
        "\n",
        "# Given an integer array nums, return true if the given array is monotonic, or false otherwise.\n",
        "\n",
        "# Example 1:\n",
        "# Input: nums = [1,2,2,3]\n",
        "# Output: true\n",
        "\n",
        "\n",
        "\n",
        "def isMonotonic(nums):\n",
        "    isIncreasing = True\n",
        "    isDecreasing = True\n",
        "\n",
        "    for i in range(1, len(nums)):\n",
        "        if nums[i] > nums[i - 1]:\n",
        "            isDecreasing = False\n",
        "        elif nums[i] < nums[i - 1]:\n",
        "            isIncreasing = False\n",
        "\n",
        "    return isIncreasing or isDecreasing\n",
        "\n",
        "nums = [1, 2, 2, 3]\n",
        "print(isMonotonic(nums))\n",
        "\n"
      ],
      "metadata": {
        "colab": {
          "base_uri": "https://localhost:8080/"
        },
        "id": "2kKViOI8CzYD",
        "outputId": "a32aa6da-a647-4ad1-8f15-36c72567daeb"
      },
      "execution_count": 8,
      "outputs": [
        {
          "output_type": "stream",
          "name": "stdout",
          "text": [
            "True\n"
          ]
        }
      ]
    },
    {
      "cell_type": "code",
      "source": [
        "# Question 8\n",
        "# You are given an integer array nums and an integer k.\n",
        "\n",
        "# In one operation, you can choose any index i where 0 <= i < nums.length and change nums[i] to nums[i] + x where x is an integer from the range [-k, k]. You can apply this operation at most once for each index i.\n",
        "\n",
        "# The score of nums is the difference between the maximum and minimum elements in nums.\n",
        "\n",
        "# Return the minimum score of nums after applying the mentioned operation at most once for each index in it.\n",
        "\n",
        "# Example 1:\n",
        "# Input: nums = [1], k = 0\n",
        "# Output: 0\n",
        "\n",
        "# Explanation: The score is max(nums) - min(nums) = 1 - 1 = 0.\n",
        "\n",
        "\n",
        "\n",
        "def minimumScore(nums, k):\n",
        "    min_num = max_num = nums[0]\n",
        "    for i in range(1, len(nums)):\n",
        "        min_num = min(min_num, nums[i])\n",
        "        max_num = max(max_num, nums[i])\n",
        "    difference = max_num - min_num\n",
        "    if difference <= 2 * k:\n",
        "        return difference\n",
        "    else:\n",
        "        return difference - 2 * k\n",
        "\n",
        "nums = [1]\n",
        "k = 0\n",
        "print(minimumScore(nums, k))\n"
      ],
      "metadata": {
        "colab": {
          "base_uri": "https://localhost:8080/"
        },
        "id": "fn3HTBXZDG4f",
        "outputId": "2d0db175-e2c4-49c4-8f58-148af041e983"
      },
      "execution_count": 9,
      "outputs": [
        {
          "output_type": "stream",
          "name": "stdout",
          "text": [
            "0\n"
          ]
        }
      ]
    }
  ]
}